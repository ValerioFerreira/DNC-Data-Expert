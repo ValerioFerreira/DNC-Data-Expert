{
  "nbformat": 4,
  "nbformat_minor": 0,
  "metadata": {
    "colab": {
      "name": "Classification and Recomendation.ipynb",
      "provenance": []
    },
    "kernelspec": {
      "name": "python3",
      "display_name": "Python 3"
    },
    "language_info": {
      "name": "python"
    }
  },
  "cells": [
    {
      "cell_type": "code",
      "execution_count": null,
      "metadata": {
        "id": "4mohLsc7h1Kl"
      },
      "outputs": [],
      "source": [
        "import pandas as pd\n",
        "import numpy as np\n",
        "import matplotlib.pyplot as plt\n",
        "import seaborn as sns\n",
        "import plotly.express as px\n",
        "import gzip\n",
        "import json    "
      ]
    },
    {
      "cell_type": "code",
      "source": [
        "with gzip.open(\"/content/meta_Video_Games.json.gz\", \"rb\") as d:\n",
        "    df_meta = json.load(d.read(), encoding=\"utf-8\")"
      ],
      "metadata": {
        "id": "ONep6J1zaZm3"
      },
      "execution_count": null,
      "outputs": []
    },
    {
      "cell_type": "code",
      "source": [
        "with gzip.open(\"/content/Video_Games_sample.json.gz\", \"rb\") as f:\n",
        "    df_game = json.loads(f.read(), encoding=\"utf-8\")"
      ],
      "metadata": {
        "id": "uYs8LouibEuJ"
      },
      "execution_count": null,
      "outputs": []
    }
  ]
}